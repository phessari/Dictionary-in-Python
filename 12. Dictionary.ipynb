{
 "cells": [
  {
   "cell_type": "markdown",
   "id": "015b76a5",
   "metadata": {},
   "source": [
    "# Dictionary: \n",
    "is a collection of key-value pairs without order. No duplicates allowed."
   ]
  },
  {
   "cell_type": "code",
   "execution_count": 1,
   "id": "18ca24fd",
   "metadata": {},
   "outputs": [
    {
     "data": {
      "text/plain": [
       "{'Canada': 'CA',\n",
       " 'United States': 'USA',\n",
       " 'United Kingdom': 'UK',\n",
       " 'France': 'FR'}"
      ]
     },
     "execution_count": 1,
     "metadata": {},
     "output_type": "execute_result"
    }
   ],
   "source": [
    "# create a dictionary\n",
    "myDict = {}                        # empty dictionary\n",
    "myDict['Canada'] = \"CA\"            # 'Canada' is key, \"CA\" is value\n",
    "myDict['United States'] = \"USA\"\n",
    "myDict['United Kingdom'] = \"UK\"\n",
    "myDict['France'] = \"FR\"\n",
    "myDict"
   ]
  },
  {
   "cell_type": "code",
   "execution_count": null,
   "id": "4916b678",
   "metadata": {},
   "outputs": [],
   "source": [
    "myDict = {'Canada': \"CA\", 'United States': \"USA\", \n",
    "           'United Kingdom' : \"UK\", 'France' : \"FR\"}\n",
    "myDict"
   ]
  },
  {
   "cell_type": "code",
   "execution_count": null,
   "id": "d37972c7",
   "metadata": {},
   "outputs": [],
   "source": [
    "type(myDict)"
   ]
  },
  {
   "cell_type": "code",
   "execution_count": null,
   "id": "9071c666",
   "metadata": {},
   "outputs": [],
   "source": [
    "# value = Dict[key]\n",
    "value = myDict['Canada']\n",
    "value"
   ]
  },
  {
   "cell_type": "markdown",
   "id": "52d95833",
   "metadata": {},
   "source": [
    "## Dictionary methods"
   ]
  },
  {
   "cell_type": "code",
   "execution_count": null,
   "id": "dfde49cb",
   "metadata": {},
   "outputs": [],
   "source": [
    "# to add or update \n",
    "myDict.update({\"India\": \"In\"})\n",
    "myDict"
   ]
  },
  {
   "cell_type": "code",
   "execution_count": null,
   "id": "b149bc65",
   "metadata": {},
   "outputs": [],
   "source": [
    "myDict.update({\"India\": \"IN\"})\n",
    "myDict"
   ]
  },
  {
   "cell_type": "code",
   "execution_count": null,
   "id": "f1dcbb03",
   "metadata": {},
   "outputs": [],
   "source": [
    "# to get keys of dictionary\n",
    "keys = list(myDict.keys())\n",
    "keys"
   ]
  },
  {
   "cell_type": "code",
   "execution_count": null,
   "id": "41c3cb2a",
   "metadata": {},
   "outputs": [],
   "source": [
    "myDict.keys()"
   ]
  },
  {
   "cell_type": "code",
   "execution_count": null,
   "id": "9de684c3",
   "metadata": {},
   "outputs": [],
   "source": [
    "# to get values of dictionary\n",
    "values = list(myDict.values())\n",
    "values"
   ]
  },
  {
   "cell_type": "code",
   "execution_count": null,
   "id": "747087aa",
   "metadata": {},
   "outputs": [],
   "source": [
    "# to get all items of dictionary\n",
    "myDict.items()"
   ]
  },
  {
   "cell_type": "code",
   "execution_count": null,
   "id": "55a62d25",
   "metadata": {},
   "outputs": [],
   "source": [
    "# to check if an item is in dictionary\n",
    "print('Canada' in myDict)\n",
    "print('Brazil' in myDict)"
   ]
  },
  {
   "cell_type": "code",
   "execution_count": null,
   "id": "6f10f71a",
   "metadata": {},
   "outputs": [],
   "source": [
    "# to get a specific value of a key-value pair\n",
    "print(myDict['Canada'])\n",
    "print(myDict.get('Canada'))"
   ]
  },
  {
   "cell_type": "code",
   "execution_count": null,
   "id": "de956396",
   "metadata": {},
   "outputs": [],
   "source": [
    "print(myDict.get('Brazil'))     # if there is no key in dictionary returns None\n",
    "print(myDict.get('Brazil', 1))  # if there is no key in dictionary returns 1"
   ]
  },
  {
   "cell_type": "code",
   "execution_count": null,
   "id": "c7cfae70",
   "metadata": {},
   "outputs": [],
   "source": [
    "# to delete a key-value pair in dictionary use del or pop \n",
    "del myDict['France']\n",
    "myDict"
   ]
  },
  {
   "cell_type": "code",
   "execution_count": null,
   "id": "65d16f27",
   "metadata": {},
   "outputs": [],
   "source": [
    "myDict.pop(\"India\")\n",
    "myDict"
   ]
  },
  {
   "cell_type": "code",
   "execution_count": null,
   "id": "af80c5f4",
   "metadata": {},
   "outputs": [],
   "source": [
    "# popitem removes the last key-value pair of dictionary. No need to pass args\n",
    "myDict.popitem()\n",
    "myDict"
   ]
  },
  {
   "cell_type": "code",
   "execution_count": null,
   "id": "48fb8480",
   "metadata": {},
   "outputs": [],
   "source": [
    "# length of dictionary\n",
    "print(len(myDict))"
   ]
  },
  {
   "cell_type": "code",
   "execution_count": 2,
   "id": "6150478b",
   "metadata": {},
   "outputs": [
    {
     "data": {
      "text/plain": [
       "{}"
      ]
     },
     "execution_count": 2,
     "metadata": {},
     "output_type": "execute_result"
    }
   ],
   "source": [
    "myDict.clear()\n",
    "myDict"
   ]
  },
  {
   "cell_type": "code",
   "execution_count": 3,
   "id": "467b252a",
   "metadata": {},
   "outputs": [
    {
     "name": "stdout",
     "output_type": "stream",
     "text": [
      "['__class__', '__contains__', '__delattr__', '__delitem__', '__dir__', '__doc__', '__eq__', '__format__', '__ge__', '__getattribute__', '__getitem__', '__gt__', '__hash__', '__init__', '__init_subclass__', '__iter__', '__le__', '__len__', '__lt__', '__ne__', '__new__', '__reduce__', '__reduce_ex__', '__repr__', '__reversed__', '__setattr__', '__setitem__', '__sizeof__', '__str__', '__subclasshook__', 'clear', 'copy', 'fromkeys', 'get', 'items', 'keys', 'pop', 'popitem', 'setdefault', 'update', 'values']\n"
     ]
    }
   ],
   "source": [
    "print(dir(myDict))"
   ]
  },
  {
   "cell_type": "code",
   "execution_count": 4,
   "id": "2e8266a0",
   "metadata": {},
   "outputs": [
    {
     "name": "stdout",
     "output_type": "stream",
     "text": [
      "Help on dict object:\n",
      "\n",
      "class dict(object)\n",
      " |  dict() -> new empty dictionary\n",
      " |  dict(mapping) -> new dictionary initialized from a mapping object's\n",
      " |      (key, value) pairs\n",
      " |  dict(iterable) -> new dictionary initialized as if via:\n",
      " |      d = {}\n",
      " |      for k, v in iterable:\n",
      " |          d[k] = v\n",
      " |  dict(**kwargs) -> new dictionary initialized with the name=value pairs\n",
      " |      in the keyword argument list.  For example:  dict(one=1, two=2)\n",
      " |  \n",
      " |  Built-in subclasses:\n",
      " |      StgDict\n",
      " |  \n",
      " |  Methods defined here:\n",
      " |  \n",
      " |  __contains__(self, key, /)\n",
      " |      True if the dictionary has the specified key, else False.\n",
      " |  \n",
      " |  __delitem__(self, key, /)\n",
      " |      Delete self[key].\n",
      " |  \n",
      " |  __eq__(self, value, /)\n",
      " |      Return self==value.\n",
      " |  \n",
      " |  __ge__(self, value, /)\n",
      " |      Return self>=value.\n",
      " |  \n",
      " |  __getattribute__(self, name, /)\n",
      " |      Return getattr(self, name).\n",
      " |  \n",
      " |  __getitem__(...)\n",
      " |      x.__getitem__(y) <==> x[y]\n",
      " |  \n",
      " |  __gt__(self, value, /)\n",
      " |      Return self>value.\n",
      " |  \n",
      " |  __init__(self, /, *args, **kwargs)\n",
      " |      Initialize self.  See help(type(self)) for accurate signature.\n",
      " |  \n",
      " |  __iter__(self, /)\n",
      " |      Implement iter(self).\n",
      " |  \n",
      " |  __le__(self, value, /)\n",
      " |      Return self<=value.\n",
      " |  \n",
      " |  __len__(self, /)\n",
      " |      Return len(self).\n",
      " |  \n",
      " |  __lt__(self, value, /)\n",
      " |      Return self<value.\n",
      " |  \n",
      " |  __ne__(self, value, /)\n",
      " |      Return self!=value.\n",
      " |  \n",
      " |  __repr__(self, /)\n",
      " |      Return repr(self).\n",
      " |  \n",
      " |  __reversed__(self, /)\n",
      " |      Return a reverse iterator over the dict keys.\n",
      " |  \n",
      " |  __setitem__(self, key, value, /)\n",
      " |      Set self[key] to value.\n",
      " |  \n",
      " |  __sizeof__(...)\n",
      " |      D.__sizeof__() -> size of D in memory, in bytes\n",
      " |  \n",
      " |  clear(...)\n",
      " |      D.clear() -> None.  Remove all items from D.\n",
      " |  \n",
      " |  copy(...)\n",
      " |      D.copy() -> a shallow copy of D\n",
      " |  \n",
      " |  get(self, key, default=None, /)\n",
      " |      Return the value for key if key is in the dictionary, else default.\n",
      " |  \n",
      " |  items(...)\n",
      " |      D.items() -> a set-like object providing a view on D's items\n",
      " |  \n",
      " |  keys(...)\n",
      " |      D.keys() -> a set-like object providing a view on D's keys\n",
      " |  \n",
      " |  pop(...)\n",
      " |      D.pop(k[,d]) -> v, remove specified key and return the corresponding value.\n",
      " |      If key is not found, d is returned if given, otherwise KeyError is raised\n",
      " |  \n",
      " |  popitem(self, /)\n",
      " |      Remove and return a (key, value) pair as a 2-tuple.\n",
      " |      \n",
      " |      Pairs are returned in LIFO (last-in, first-out) order.\n",
      " |      Raises KeyError if the dict is empty.\n",
      " |  \n",
      " |  setdefault(self, key, default=None, /)\n",
      " |      Insert key with a value of default if key is not in the dictionary.\n",
      " |      \n",
      " |      Return the value for key if key is in the dictionary, else default.\n",
      " |  \n",
      " |  update(...)\n",
      " |      D.update([E, ]**F) -> None.  Update D from dict/iterable E and F.\n",
      " |      If E is present and has a .keys() method, then does:  for k in E: D[k] = E[k]\n",
      " |      If E is present and lacks a .keys() method, then does:  for k, v in E: D[k] = v\n",
      " |      In either case, this is followed by: for k in F:  D[k] = F[k]\n",
      " |  \n",
      " |  values(...)\n",
      " |      D.values() -> an object providing a view on D's values\n",
      " |  \n",
      " |  ----------------------------------------------------------------------\n",
      " |  Class methods defined here:\n",
      " |  \n",
      " |  fromkeys(iterable, value=None, /) from builtins.type\n",
      " |      Create a new dictionary with keys from iterable and values set to value.\n",
      " |  \n",
      " |  ----------------------------------------------------------------------\n",
      " |  Static methods defined here:\n",
      " |  \n",
      " |  __new__(*args, **kwargs) from builtins.type\n",
      " |      Create and return a new object.  See help(type) for accurate signature.\n",
      " |  \n",
      " |  ----------------------------------------------------------------------\n",
      " |  Data and other attributes defined here:\n",
      " |  \n",
      " |  __hash__ = None\n",
      "\n",
      "None\n"
     ]
    }
   ],
   "source": [
    "print(help(myDict))"
   ]
  },
  {
   "cell_type": "code",
   "execution_count": null,
   "id": "9db7e237",
   "metadata": {},
   "outputs": [],
   "source": []
  },
  {
   "cell_type": "code",
   "execution_count": null,
   "id": "297342a3",
   "metadata": {},
   "outputs": [],
   "source": []
  },
  {
   "cell_type": "code",
   "execution_count": null,
   "id": "279e3890",
   "metadata": {},
   "outputs": [],
   "source": []
  },
  {
   "cell_type": "code",
   "execution_count": null,
   "id": "099bfa2f",
   "metadata": {},
   "outputs": [],
   "source": []
  },
  {
   "cell_type": "markdown",
   "id": "fd617c6b",
   "metadata": {},
   "source": [
    "# nested dictionary"
   ]
  },
  {
   "cell_type": "code",
   "execution_count": null,
   "id": "17bc013f",
   "metadata": {},
   "outputs": [],
   "source": [
    "nested_dict = {'a' : {'one' : [1, 3, 5, 7, 9], 'two' : [2, 4, 6, 8]},\n",
    "               'b' : {'ten' : 10, 'twenty': 20},\n",
    "               'c' : {'hundred' : 100}\n",
    "              }"
   ]
  },
  {
   "cell_type": "code",
   "execution_count": null,
   "id": "87c4f17a",
   "metadata": {},
   "outputs": [],
   "source": [
    "nested_dict['a']"
   ]
  },
  {
   "cell_type": "code",
   "execution_count": null,
   "id": "ce765a1f",
   "metadata": {},
   "outputs": [],
   "source": [
    "nested_dict['a']['one']"
   ]
  },
  {
   "cell_type": "code",
   "execution_count": null,
   "id": "4add3925",
   "metadata": {},
   "outputs": [],
   "source": [
    "nested_dict['a']['one'][2]"
   ]
  },
  {
   "cell_type": "code",
   "execution_count": null,
   "id": "f30cef88",
   "metadata": {},
   "outputs": [],
   "source": [
    "# you can assign a new data \n",
    "nested_dict['a']['one'][2] = 51\n",
    "nested_dict"
   ]
  },
  {
   "cell_type": "code",
   "execution_count": null,
   "id": "82d38edf",
   "metadata": {},
   "outputs": [],
   "source": []
  }
 ],
 "metadata": {
  "kernelspec": {
   "display_name": "Python 3",
   "language": "python",
   "name": "python3"
  },
  "language_info": {
   "codemirror_mode": {
    "name": "ipython",
    "version": 3
   },
   "file_extension": ".py",
   "mimetype": "text/x-python",
   "name": "python",
   "nbconvert_exporter": "python",
   "pygments_lexer": "ipython3",
   "version": "3.8.3"
  }
 },
 "nbformat": 4,
 "nbformat_minor": 5
}
